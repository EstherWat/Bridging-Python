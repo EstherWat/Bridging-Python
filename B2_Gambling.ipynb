{
 "cells": [
  {
   "cell_type": "markdown",
   "metadata": {},
   "source": [
    "# Gambling  \n",
    "> You make money when you win. \n",
    "> The amount of gain you can get depends on whether you use a trump card.   \n",
    "> Import a module called **random**.  \n",
    "> ***Import module_name***  \n",
    "> Use its method called **randint** that generates an integer.  \n",
    "> __[Read this Python doc](https://docs.python.org/2/library/random.html)__"
   ]
  },
  {
   "cell_type": "code",
   "execution_count": 1,
   "metadata": {},
   "outputs": [
    {
     "data": {
      "text/plain": [
       "33"
      ]
     },
     "execution_count": 1,
     "metadata": {},
     "output_type": "execute_result"
    }
   ],
   "source": [
    "import random\n",
    "random.randint(25,50)"
   ]
  },
  {
   "cell_type": "code",
   "execution_count": 2,
   "metadata": {},
   "outputs": [],
   "source": [
    "# Initial investment\n",
    "chips = 50\n",
    "trump = 2"
   ]
  },
  {
   "cell_type": "code",
   "execution_count": 3,
   "metadata": {},
   "outputs": [],
   "source": [
    "winamount = int(random.randint(25,50)*trump)"
   ]
  },
  {
   "cell_type": "code",
   "execution_count": 4,
   "metadata": {},
   "outputs": [],
   "source": [
    "chips = chips + winamount"
   ]
  },
  {
   "cell_type": "code",
   "execution_count": 5,
   "metadata": {},
   "outputs": [
    {
     "name": "stdout",
     "output_type": "stream",
     "text": [
      "112\n"
     ]
    }
   ],
   "source": [
    "print(chips)"
   ]
  },
  {
   "cell_type": "markdown",
   "metadata": {},
   "source": [
    "## Activity 1\n",
    "> You will lose money if you lose the bet. \n",
    "> Draw integer in the range of -50 and 50 for **winamount**.  \n",
    "> Draw integer in the range of 1 and 5 for **trump**.  \n",
    "> Multiply **winamount** by **trump**.  \n",
    "> Create 2 *chips* variables **chips1** and **chips2** with the same initial value 50.  \n",
    "> Both get the same **winamount**.  \n",
    "> For **chips1**, use *chips1 = chips1 + winamount*  \n",
    "> For **chips2**, use *chips2 += winamount*  \n",
    "> Any difference?"
   ]
  },
  {
   "cell_type": "code",
   "execution_count": null,
   "metadata": {},
   "outputs": [],
   "source": []
  }
 ],
 "metadata": {
  "kernelspec": {
   "display_name": "Python 3",
   "language": "python",
   "name": "python3"
  },
  "language_info": {
   "codemirror_mode": {
    "name": "ipython",
    "version": 3
   },
   "file_extension": ".py",
   "mimetype": "text/x-python",
   "name": "python",
   "nbconvert_exporter": "python",
   "pygments_lexer": "ipython3",
   "version": "3.6.8"
  }
 },
 "nbformat": 4,
 "nbformat_minor": 2
}
