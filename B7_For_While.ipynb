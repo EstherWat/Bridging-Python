{
 "cells": [
  {
   "cell_type": "markdown",
   "metadata": {},
   "source": [
    "# Looping\n",
    ">***range()*** is a function that yields a sequence of evenly spaced integers.  \n",
    ">***for*** loops are for interating over a collection.  \n",
    ">***while*** specifies a condition and executes the code in it until the condition is false.   "
   ]
  },
  {
   "cell_type": "code",
   "execution_count": 1,
   "metadata": {},
   "outputs": [
    {
     "name": "stdout",
     "output_type": "stream",
     "text": [
      "range(0, 10)\n",
      "[0, 1, 2, 3, 4, 5, 6, 7, 8, 9]\n"
     ]
    }
   ],
   "source": [
    "a1 = range(10)\n",
    "print(a1)\n",
    "print(list(a1))"
   ]
  },
  {
   "cell_type": "code",
   "execution_count": 2,
   "metadata": {},
   "outputs": [
    {
     "name": "stdout",
     "output_type": "stream",
     "text": [
      "range(1, 9)\n",
      "[1, 2, 3, 4, 5, 6, 7, 8]\n"
     ]
    }
   ],
   "source": [
    "a2 = range(1,9)\n",
    "print(a2)\n",
    "print(list(a2))"
   ]
  },
  {
   "cell_type": "code",
   "execution_count": 3,
   "metadata": {},
   "outputs": [
    {
     "name": "stdout",
     "output_type": "stream",
     "text": [
      "range(1, 9, 2)\n",
      "[1, 3, 5, 7]\n"
     ]
    }
   ],
   "source": [
    "a3 = range(1,9,2)\n",
    "print(a3)\n",
    "print(list(a3))"
   ]
  },
  {
   "cell_type": "code",
   "execution_count": 4,
   "metadata": {},
   "outputs": [
    {
     "name": "stdout",
     "output_type": "stream",
     "text": [
      "0!\n",
      "1!\n",
      "2!\n",
      "3!\n",
      "4!\n",
      "5!\n",
      "6!\n",
      "7!\n",
      "8!\n",
      "9!\n"
     ]
    }
   ],
   "source": [
    "for abc in range(10):\n",
    "    print(str(abc)+'!')"
   ]
  },
  {
   "cell_type": "code",
   "execution_count": 5,
   "metadata": {},
   "outputs": [
    {
     "name": "stdout",
     "output_type": "stream",
     "text": [
      "1 is odd !!\n",
      "2 is an even number !!\n",
      "3 is odd !!\n",
      "4 is an even number !!\n",
      "5 is odd !!\n",
      "6 is an even number !!\n",
      "7 is odd !!\n",
      "8 is an even number !!\n",
      "9 is odd !!\n"
     ]
    }
   ],
   "source": [
    "for asdf in range(1,10):\n",
    "    if asdf%2==0:\n",
    "        print(str(asdf) + ' is an even number !!')\n",
    "    else:\n",
    "        print(str(asdf) + ' is odd !!')"
   ]
  },
  {
   "cell_type": "code",
   "execution_count": 6,
   "metadata": {},
   "outputs": [
    {
     "name": "stdout",
     "output_type": "stream",
     "text": [
      "0\n",
      "1\n",
      "2\n",
      "3\n",
      "4\n"
     ]
    }
   ],
   "source": [
    "i=0\n",
    "while i < 5:\n",
    "    print(i)\n",
    "    i=i+1"
   ]
  },
  {
   "cell_type": "code",
   "execution_count": 7,
   "metadata": {},
   "outputs": [
    {
     "name": "stdout",
     "output_type": "stream",
     "text": [
      "0\n",
      "1\n",
      "2\n",
      "3\n",
      "4\n"
     ]
    }
   ],
   "source": [
    "i=0\n",
    "while i < 5:\n",
    "    print(i)\n",
    "    i+=1"
   ]
  },
  {
   "cell_type": "markdown",
   "metadata": {},
   "source": [
    "# Activity 1\n",
    "> Use a while loop to generate a sequence of even numbers from 2 up to 10.  "
   ]
  },
  {
   "cell_type": "code",
   "execution_count": null,
   "metadata": {},
   "outputs": [],
   "source": []
  },
  {
   "cell_type": "markdown",
   "metadata": {},
   "source": [
    "# Activity 2\n",
    "> Identify whether the customers are existing or new.  \n",
    "> The list of existing customers is given. "
   ]
  },
  {
   "cell_type": "code",
   "execution_count": null,
   "metadata": {},
   "outputs": [],
   "source": [
    "existing_customers = ['Amy','Bobby','Carl','David','Eva']"
   ]
  },
  {
   "cell_type": "code",
   "execution_count": null,
   "metadata": {},
   "outputs": [],
   "source": []
  }
 ],
 "metadata": {
  "kernelspec": {
   "display_name": "Python 3",
   "language": "python",
   "name": "python3"
  },
  "language_info": {
   "codemirror_mode": {
    "name": "ipython",
    "version": 3
   },
   "file_extension": ".py",
   "mimetype": "text/x-python",
   "name": "python",
   "nbconvert_exporter": "python",
   "pygments_lexer": "ipython3",
   "version": "3.6.8"
  }
 },
 "nbformat": 4,
 "nbformat_minor": 2
}
