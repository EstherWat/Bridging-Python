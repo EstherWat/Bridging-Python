{
 "cells": [
  {
   "cell_type": "markdown",
   "metadata": {},
   "source": [
    "# B1-Activity 1"
   ]
  },
  {
   "cell_type": "code",
   "execution_count": null,
   "metadata": {},
   "outputs": [],
   "source": [
    "n1 = 17\n",
    "n2 = 4\n",
    "b = n1-n2\n",
    "c = n1*n2\n",
    "d = n1/n2\n",
    "e = n1//n2\n",
    "f = n1%n2\n",
    "print(str(b) + ' is the difference between n1 & n2')\n",
    "print(str(c) + ' is the product between n1 & n2')\n",
    "print(str(d) + ' is the division of n1 by n2')\n",
    "print(\"{} is {}\".format(e,\"floor of n1/n2\"))\n",
    "print(\"{} is {}\".format(f,\"modulo of n1/n2\"))"
   ]
  },
  {
   "cell_type": "markdown",
   "metadata": {},
   "source": [
    "# B1-Activity 2"
   ]
  },
  {
   "cell_type": "code",
   "execution_count": null,
   "metadata": {},
   "outputs": [],
   "source": [
    "print(type(b),type(c),type(d),type(e),type(f))"
   ]
  },
  {
   "cell_type": "markdown",
   "metadata": {},
   "source": [
    "# B1-Activity 3"
   ]
  },
  {
   "cell_type": "code",
   "execution_count": null,
   "metadata": {},
   "outputs": [],
   "source": [
    "a_floor = 10//2\n",
    "a_mod   = 10%2\n",
    "b_floor = 7.5//5\n",
    "b_mod   = 7.5%5\n",
    "c       = 2*5-1\n",
    "print(a_floor,a_mod,b_floor,b_mod,c)\n",
    "print(type(a_floor),type(a_mod),type(b_floor),type(b_mod),type(c))"
   ]
  },
  {
   "cell_type": "markdown",
   "metadata": {},
   "source": [
    "# B2-Activity 1"
   ]
  },
  {
   "cell_type": "code",
   "execution_count": null,
   "metadata": {},
   "outputs": [],
   "source": [
    "import random\n",
    "winamount = random.randint(-50,50)\n",
    "trump     = random.randint(1,5)\n",
    "winamount = int(winamount*trump)\n",
    "chips1=chips2=50\n",
    "chips1 = chips1 + winamount\n",
    "chips2 += winamount"
   ]
  },
  {
   "cell_type": "markdown",
   "metadata": {},
   "source": [
    "# B4-Activity 1"
   ]
  },
  {
   "cell_type": "code",
   "execution_count": null,
   "metadata": {},
   "outputs": [],
   "source": [
    "code_name = input('Please enter your favourite course as follows: Code/Name')\n",
    "clean = code_name.strip()\n",
    "code  = clean[:clean.index('/')]\n",
    "name  = clean[clean.index('/')+1:]\n",
    "out = 'My favourite course is {} ({})!'.format(name,code)\n",
    "print(out)"
   ]
  },
  {
   "cell_type": "markdown",
   "metadata": {},
   "source": [
    "# B5-Activity 1"
   ]
  },
  {
   "cell_type": "code",
   "execution_count": null,
   "metadata": {},
   "outputs": [],
   "source": [
    "weather = 'bad'\n",
    "temperature = 20\n",
    "\n",
    "if (weather == 'good') and (temperature == 20):\n",
    "    print('Tennis')\n",
    "elif (weather == 'good') and (temperature == 30):\n",
    "    print('Swimming')\n",
    "elif (weather == 'bad') and (temperature == 20):\n",
    "    print('Movie')\n",
    "else:\n",
    "    print('No mood')"
   ]
  },
  {
   "cell_type": "markdown",
   "metadata": {},
   "source": [
    "# B6-Activity 1"
   ]
  },
  {
   "cell_type": "code",
   "execution_count": null,
   "metadata": {},
   "outputs": [],
   "source": [
    "info = {'University': 'HKBU', 'Department': 'Econ', 'Programme': 'DABE', 'Size': 60}\n",
    "print(info)\n",
    "print(info['Programme'])"
   ]
  },
  {
   "cell_type": "markdown",
   "metadata": {},
   "source": [
    "# B6-Activity 2"
   ]
  },
  {
   "cell_type": "code",
   "execution_count": null,
   "metadata": {},
   "outputs": [],
   "source": [
    "a = []\n",
    "num = [1,2,3,4,5]\n",
    "for i in num:\n",
    "    a.append(i)\n",
    "    print(a)"
   ]
  },
  {
   "cell_type": "markdown",
   "metadata": {},
   "source": [
    "# B7-Activity 1"
   ]
  },
  {
   "cell_type": "code",
   "execution_count": null,
   "metadata": {},
   "outputs": [],
   "source": [
    "i=1\n",
    "while i <= 5:\n",
    "    print(2*i)\n",
    "    i+=1"
   ]
  },
  {
   "cell_type": "markdown",
   "metadata": {},
   "source": [
    "# B7-Activity 2"
   ]
  },
  {
   "cell_type": "code",
   "execution_count": null,
   "metadata": {},
   "outputs": [],
   "source": [
    "existing_customers = ['Amy','Bobby','Carl','David','Eva']\n",
    "name = input('What is your name? ').strip().capitalize()\n",
    "if name in existing_customers: \n",
    "    print(name + ' is my existing customers.')\n",
    "else:\n",
    "     print(name + ' is my new customers.')"
   ]
  },
  {
   "cell_type": "markdown",
   "metadata": {},
   "source": [
    "# B8-Activity 1"
   ]
  },
  {
   "cell_type": "code",
   "execution_count": null,
   "metadata": {},
   "outputs": [],
   "source": [
    "import math\n",
    "def pythagorus(a,b):\n",
    "    c = math.sqrt(a^2+b^2)\n",
    "    return c\n",
    "\n",
    "pythagorus(3,4)"
   ]
  },
  {
   "cell_type": "code",
   "execution_count": null,
   "metadata": {},
   "outputs": [],
   "source": [
    "import math\n",
    "another_py = lambda a,b: math.sqrt(a^2+b^2)\n",
    "another_py(3,4)"
   ]
  },
  {
   "cell_type": "markdown",
   "metadata": {},
   "source": [
    "# B8-Activity 2"
   ]
  },
  {
   "cell_type": "code",
   "execution_count": null,
   "metadata": {},
   "outputs": [],
   "source": [
    "def standard(numbers):\n",
    "    z=[]\n",
    "    for x in numbers:\n",
    "        y=[(x-min(numbers))/(max(numbers)-min(numbers))]\n",
    "        z=z+y\n",
    "    return z \n",
    "\n",
    "numbers = [1,2,3,4,5]\n",
    "standard(numbers)"
   ]
  },
  {
   "cell_type": "markdown",
   "metadata": {},
   "source": [
    "# B10-Activity 1"
   ]
  },
  {
   "cell_type": "code",
   "execution_count": 8,
   "metadata": {},
   "outputs": [],
   "source": [
    "import numpy as np\n",
    "x = np.random.randn(50,1)\n",
    "x_var = np.var(x)\n",
    "u = np.random.randn(50,1)\n",
    "y = 1+2*x+u\n",
    "y_mean = np.mean(y)\n",
    "y_var = np.var(y)"
   ]
  },
  {
   "cell_type": "markdown",
   "metadata": {},
   "source": [
    "# B10-Activity 2"
   ]
  },
  {
   "cell_type": "code",
   "execution_count": 25,
   "metadata": {},
   "outputs": [
    {
     "data": {
      "text/plain": [
       "(50, 2)"
      ]
     },
     "execution_count": 25,
     "metadata": {},
     "output_type": "execute_result"
    }
   ],
   "source": [
    "e = np.ones((50,1))\n",
    "z = np.concatenate((e,x),axis=1)\n",
    "z.shape"
   ]
  },
  {
   "cell_type": "code",
   "execution_count": 28,
   "metadata": {},
   "outputs": [
    {
     "name": "stdout",
     "output_type": "stream",
     "text": [
      "[[ 50.         -22.22236862]\n",
      " [-22.22236862  79.83395918]]\n"
     ]
    }
   ],
   "source": [
    "zm = np.matrix(z)\n",
    "zz = zm.T*zm\n",
    "print(zz)\n",
    "\n",
    "from numpy.linalg import inv\n",
    "zz_inv = inv(zz)"
   ]
  },
  {
   "cell_type": "code",
   "execution_count": 32,
   "metadata": {},
   "outputs": [
    {
     "name": "stdout",
     "output_type": "stream",
     "text": [
      "[[1.25684322]\n",
      " [1.91502165]]\n"
     ]
    }
   ],
   "source": [
    "ym = np.matrix(y)\n",
    "zy = zm.T*ym\n",
    "\n",
    "b  = zz_inv*zy\n",
    "print(b)"
   ]
  },
  {
   "cell_type": "markdown",
   "metadata": {},
   "source": [
    "# B11-Activity 1"
   ]
  },
  {
   "cell_type": "code",
   "execution_count": 18,
   "metadata": {},
   "outputs": [
    {
     "data": {
      "text/html": [
       "<div>\n",
       "<style scoped>\n",
       "    .dataframe tbody tr th:only-of-type {\n",
       "        vertical-align: middle;\n",
       "    }\n",
       "\n",
       "    .dataframe tbody tr th {\n",
       "        vertical-align: top;\n",
       "    }\n",
       "\n",
       "    .dataframe thead th {\n",
       "        text-align: right;\n",
       "    }\n",
       "</style>\n",
       "<table border=\"1\" class=\"dataframe\">\n",
       "  <thead>\n",
       "    <tr style=\"text-align: right;\">\n",
       "      <th></th>\n",
       "      <th>area</th>\n",
       "      <th>population</th>\n",
       "      <th>density2</th>\n",
       "      <th>statecode</th>\n",
       "    </tr>\n",
       "  </thead>\n",
       "  <tbody>\n",
       "    <tr>\n",
       "      <th>California</th>\n",
       "      <td>423967</td>\n",
       "      <td>38332521</td>\n",
       "      <td>90.413926</td>\n",
       "      <td>CA</td>\n",
       "    </tr>\n",
       "    <tr>\n",
       "      <th>Texas</th>\n",
       "      <td>695662</td>\n",
       "      <td>26448193</td>\n",
       "      <td>38.018740</td>\n",
       "      <td>TX</td>\n",
       "    </tr>\n",
       "    <tr>\n",
       "      <th>New York</th>\n",
       "      <td>141297</td>\n",
       "      <td>19651127</td>\n",
       "      <td>139.076746</td>\n",
       "      <td>NY</td>\n",
       "    </tr>\n",
       "    <tr>\n",
       "      <th>Florida</th>\n",
       "      <td>170312</td>\n",
       "      <td>19552860</td>\n",
       "      <td>114.806121</td>\n",
       "      <td>FL</td>\n",
       "    </tr>\n",
       "    <tr>\n",
       "      <th>Illinois</th>\n",
       "      <td>149995</td>\n",
       "      <td>12882135</td>\n",
       "      <td>85.883763</td>\n",
       "      <td>IL</td>\n",
       "    </tr>\n",
       "  </tbody>\n",
       "</table>\n",
       "</div>"
      ],
      "text/plain": [
       "              area  population    density2 statecode\n",
       "California  423967    38332521   90.413926        CA\n",
       "Texas       695662    26448193   38.018740        TX\n",
       "New York    141297    19651127  139.076746        NY\n",
       "Florida     170312    19552860  114.806121        FL\n",
       "Illinois    149995    12882135   85.883763        IL"
      ]
     },
     "execution_count": 18,
     "metadata": {},
     "output_type": "execute_result"
    }
   ],
   "source": [
    "import pandas as pd\n",
    "area = pd.Series({'California': 423967, 'Texas': 695662,\n",
    "                  'New York': 141297, 'Florida': 170312,\n",
    "                  'Illinois': 149995})\n",
    "pop = pd.Series({'California': 38332521, 'Texas': 26448193,\n",
    "                 'New York': 19651127, 'Florida': 19552860,\n",
    "                 'Illinois': 12882135})\n",
    "den = pop/area\n",
    "code = pd.Series({'California': 'CA', 'Texas': 'TX',\n",
    "                  'New York': 'NY', 'Florida': 'FL',\n",
    "                  'Illinois': 'IL'})\n",
    "\n",
    "data = pd.DataFrame({'area':area, 'population':pop,'density2':den,'statecode':code})\n",
    "data"
   ]
  },
  {
   "cell_type": "code",
   "execution_count": 17,
   "metadata": {},
   "outputs": [
    {
     "data": {
      "text/plain": [
       "True"
      ]
     },
     "execution_count": 17,
     "metadata": {},
     "output_type": "execute_result"
    }
   ],
   "source": [
    "data.population is data['population']"
   ]
  },
  {
   "cell_type": "code",
   "execution_count": null,
   "metadata": {},
   "outputs": [],
   "source": []
  }
 ],
 "metadata": {
  "kernelspec": {
   "display_name": "Python 3",
   "language": "python",
   "name": "python3"
  },
  "language_info": {
   "codemirror_mode": {
    "name": "ipython",
    "version": 3
   },
   "file_extension": ".py",
   "mimetype": "text/x-python",
   "name": "python",
   "nbconvert_exporter": "python",
   "pygments_lexer": "ipython3",
   "version": "3.6.8"
  }
 },
 "nbformat": 4,
 "nbformat_minor": 2
}
